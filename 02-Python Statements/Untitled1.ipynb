{
 "cells": [
  {
   "cell_type": "code",
   "execution_count": 16,
   "metadata": {},
   "outputs": [
    {
     "name": "stdout",
     "output_type": "stream",
     "text": [
      "Input a number!0\n",
      "You have guessed the right number!\n"
     ]
    }
   ],
   "source": [
    "from random import randint\n",
    "\n",
    "user_num = int(input('Input a number!'))\n",
    "\n",
    "#user_num = 13\n",
    "\n",
    "if user_num == randint(0,3):\n",
    "    print('You have guessed the right number!')\n",
    "else:\n",
    "    print('Sorry you did not guess correctly :(')"
   ]
  },
  {
   "cell_type": "code",
   "execution_count": null,
   "metadata": {},
   "outputs": [],
   "source": []
  }
 ],
 "metadata": {
  "kernelspec": {
   "display_name": "Python 3",
   "language": "python",
   "name": "python3"
  },
  "language_info": {
   "codemirror_mode": {
    "name": "ipython",
    "version": 3
   },
   "file_extension": ".py",
   "mimetype": "text/x-python",
   "name": "python",
   "nbconvert_exporter": "python",
   "pygments_lexer": "ipython3",
   "version": "3.7.3"
  }
 },
 "nbformat": 4,
 "nbformat_minor": 2
}
